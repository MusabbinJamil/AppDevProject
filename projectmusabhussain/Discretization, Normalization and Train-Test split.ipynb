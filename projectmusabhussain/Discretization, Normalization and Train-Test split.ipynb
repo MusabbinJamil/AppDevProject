{
 "cells": [
  {
   "cell_type": "code",
   "execution_count": 1,
   "id": "5a0d1fc4-9301-4286-a408-676979699181",
   "metadata": {},
   "outputs": [],
   "source": [
    "# pip install scikit-learn\n",
    "# requierment satisfied"
   ]
  },
  {
   "cell_type": "code",
   "execution_count": 2,
   "id": "c4808b65-24c1-4704-a3d2-714d841d07d2",
   "metadata": {},
   "outputs": [],
   "source": [
    "import pandas as pd\n",
    "from sklearn.preprocessing import StandardScaler, OneHotEncoder\n",
    "from sklearn.model_selection import train_test_split"
   ]
  },
  {
   "cell_type": "code",
   "execution_count": 7,
   "id": "6a93bc5b-d8df-4c18-aca9-b5990aad151a",
   "metadata": {},
   "outputs": [],
   "source": [
    "data = pd.read_csv('Final Project Data.csv', index_col='Unnamed: 0')"
   ]
  },
  {
   "cell_type": "code",
   "execution_count": 8,
   "id": "9fab7c3b",
   "metadata": {},
   "outputs": [
    {
     "data": {
      "text/html": [
       "<div>\n",
       "<style scoped>\n",
       "    .dataframe tbody tr th:only-of-type {\n",
       "        vertical-align: middle;\n",
       "    }\n",
       "\n",
       "    .dataframe tbody tr th {\n",
       "        vertical-align: top;\n",
       "    }\n",
       "\n",
       "    .dataframe thead th {\n",
       "        text-align: right;\n",
       "    }\n",
       "</style>\n",
       "<table border=\"1\" class=\"dataframe\">\n",
       "  <thead>\n",
       "    <tr style=\"text-align: right;\">\n",
       "      <th></th>\n",
       "      <th>link</th>\n",
       "      <th>genre</th>\n",
       "      <th>date</th>\n",
       "      <th>day_data</th>\n",
       "      <th>shares</th>\n",
       "      <th>title_word_count</th>\n",
       "      <th>content_word_count</th>\n",
       "      <th>avg_positive_polarity</th>\n",
       "      <th>avg_negative_polarity</th>\n",
       "      <th>title_sentiment_polarity</th>\n",
       "    </tr>\n",
       "  </thead>\n",
       "  <tbody>\n",
       "    <tr>\n",
       "      <th>0</th>\n",
       "      <td>http://mashable.com/2013/01/07/amazon-instant-...</td>\n",
       "      <td>entertainment</td>\n",
       "      <td>2013-01-07</td>\n",
       "      <td>monday</td>\n",
       "      <td>593</td>\n",
       "      <td>12.0</td>\n",
       "      <td>219.0</td>\n",
       "      <td>0.378636</td>\n",
       "      <td>-0.350000</td>\n",
       "      <td>-0.187500</td>\n",
       "    </tr>\n",
       "    <tr>\n",
       "      <th>1</th>\n",
       "      <td>http://mashable.com/2013/01/07/ap-samsung-spon...</td>\n",
       "      <td>business</td>\n",
       "      <td>2013-01-07</td>\n",
       "      <td>monday</td>\n",
       "      <td>711</td>\n",
       "      <td>9.0</td>\n",
       "      <td>255.0</td>\n",
       "      <td>0.286915</td>\n",
       "      <td>-0.118750</td>\n",
       "      <td>0.000000</td>\n",
       "    </tr>\n",
       "    <tr>\n",
       "      <th>2</th>\n",
       "      <td>http://mashable.com/2013/01/07/apple-40-billio...</td>\n",
       "      <td>business</td>\n",
       "      <td>2013-01-07</td>\n",
       "      <td>monday</td>\n",
       "      <td>1500</td>\n",
       "      <td>9.0</td>\n",
       "      <td>211.0</td>\n",
       "      <td>0.495833</td>\n",
       "      <td>-0.466667</td>\n",
       "      <td>0.000000</td>\n",
       "    </tr>\n",
       "    <tr>\n",
       "      <th>3</th>\n",
       "      <td>http://mashable.com/2013/01/07/astronaut-notre...</td>\n",
       "      <td>entertainment</td>\n",
       "      <td>2013-01-07</td>\n",
       "      <td>monday</td>\n",
       "      <td>1200</td>\n",
       "      <td>9.0</td>\n",
       "      <td>531.0</td>\n",
       "      <td>0.385965</td>\n",
       "      <td>-0.369697</td>\n",
       "      <td>0.000000</td>\n",
       "    </tr>\n",
       "    <tr>\n",
       "      <th>4</th>\n",
       "      <td>http://mashable.com/2013/01/07/att-u-verse-apps/</td>\n",
       "      <td>technology</td>\n",
       "      <td>2013-01-07</td>\n",
       "      <td>monday</td>\n",
       "      <td>505</td>\n",
       "      <td>13.0</td>\n",
       "      <td>1072.0</td>\n",
       "      <td>0.411127</td>\n",
       "      <td>-0.220192</td>\n",
       "      <td>0.136364</td>\n",
       "    </tr>\n",
       "    <tr>\n",
       "      <th>...</th>\n",
       "      <td>...</td>\n",
       "      <td>...</td>\n",
       "      <td>...</td>\n",
       "      <td>...</td>\n",
       "      <td>...</td>\n",
       "      <td>...</td>\n",
       "      <td>...</td>\n",
       "      <td>...</td>\n",
       "      <td>...</td>\n",
       "      <td>...</td>\n",
       "    </tr>\n",
       "    <tr>\n",
       "      <th>39639</th>\n",
       "      <td>http://mashable.com/2014/12/27/samsung-app-aut...</td>\n",
       "      <td>technology</td>\n",
       "      <td>2014-12-31</td>\n",
       "      <td>wednesday</td>\n",
       "      <td>1800</td>\n",
       "      <td>11.0</td>\n",
       "      <td>346.0</td>\n",
       "      <td>0.333791</td>\n",
       "      <td>-0.260000</td>\n",
       "      <td>0.000000</td>\n",
       "    </tr>\n",
       "    <tr>\n",
       "      <th>39640</th>\n",
       "      <td>http://mashable.com/2014/12/27/seth-rogen-jame...</td>\n",
       "      <td>social media</td>\n",
       "      <td>2014-12-31</td>\n",
       "      <td>wednesday</td>\n",
       "      <td>1900</td>\n",
       "      <td>12.0</td>\n",
       "      <td>328.0</td>\n",
       "      <td>0.374825</td>\n",
       "      <td>-0.211111</td>\n",
       "      <td>1.000000</td>\n",
       "    </tr>\n",
       "    <tr>\n",
       "      <th>39641</th>\n",
       "      <td>http://mashable.com/2014/12/27/son-pays-off-mo...</td>\n",
       "      <td>lifestyle</td>\n",
       "      <td>2014-12-31</td>\n",
       "      <td>wednesday</td>\n",
       "      <td>1900</td>\n",
       "      <td>10.0</td>\n",
       "      <td>442.0</td>\n",
       "      <td>0.307273</td>\n",
       "      <td>-0.356439</td>\n",
       "      <td>0.136364</td>\n",
       "    </tr>\n",
       "    <tr>\n",
       "      <th>39642</th>\n",
       "      <td>http://mashable.com/2014/12/27/ukraine-blasts/</td>\n",
       "      <td>world</td>\n",
       "      <td>2014-12-31</td>\n",
       "      <td>wednesday</td>\n",
       "      <td>1100</td>\n",
       "      <td>6.0</td>\n",
       "      <td>682.0</td>\n",
       "      <td>0.236851</td>\n",
       "      <td>-0.205246</td>\n",
       "      <td>0.000000</td>\n",
       "    </tr>\n",
       "    <tr>\n",
       "      <th>39643</th>\n",
       "      <td>http://mashable.com/2014/12/27/youtube-channel...</td>\n",
       "      <td>entertainment</td>\n",
       "      <td>2014-12-31</td>\n",
       "      <td>wednesday</td>\n",
       "      <td>1300</td>\n",
       "      <td>10.0</td>\n",
       "      <td>157.0</td>\n",
       "      <td>0.247338</td>\n",
       "      <td>-0.200000</td>\n",
       "      <td>0.250000</td>\n",
       "    </tr>\n",
       "  </tbody>\n",
       "</table>\n",
       "<p>39644 rows × 10 columns</p>\n",
       "</div>"
      ],
      "text/plain": [
       "                                                    link           genre  \\\n",
       "0      http://mashable.com/2013/01/07/amazon-instant-...   entertainment   \n",
       "1      http://mashable.com/2013/01/07/ap-samsung-spon...        business   \n",
       "2      http://mashable.com/2013/01/07/apple-40-billio...        business   \n",
       "3      http://mashable.com/2013/01/07/astronaut-notre...   entertainment   \n",
       "4       http://mashable.com/2013/01/07/att-u-verse-apps/      technology   \n",
       "...                                                  ...             ...   \n",
       "39639  http://mashable.com/2014/12/27/samsung-app-aut...      technology   \n",
       "39640  http://mashable.com/2014/12/27/seth-rogen-jame...    social media   \n",
       "39641  http://mashable.com/2014/12/27/son-pays-off-mo...       lifestyle   \n",
       "39642     http://mashable.com/2014/12/27/ukraine-blasts/           world   \n",
       "39643  http://mashable.com/2014/12/27/youtube-channel...   entertainment   \n",
       "\n",
       "             date   day_data  shares  title_word_count  content_word_count  \\\n",
       "0      2013-01-07     monday     593              12.0               219.0   \n",
       "1      2013-01-07     monday     711               9.0               255.0   \n",
       "2      2013-01-07     monday    1500               9.0               211.0   \n",
       "3      2013-01-07     monday    1200               9.0               531.0   \n",
       "4      2013-01-07     monday     505              13.0              1072.0   \n",
       "...           ...        ...     ...               ...                 ...   \n",
       "39639  2014-12-31  wednesday    1800              11.0               346.0   \n",
       "39640  2014-12-31  wednesday    1900              12.0               328.0   \n",
       "39641  2014-12-31  wednesday    1900              10.0               442.0   \n",
       "39642  2014-12-31  wednesday    1100               6.0               682.0   \n",
       "39643  2014-12-31  wednesday    1300              10.0               157.0   \n",
       "\n",
       "       avg_positive_polarity  avg_negative_polarity  title_sentiment_polarity  \n",
       "0                   0.378636              -0.350000                 -0.187500  \n",
       "1                   0.286915              -0.118750                  0.000000  \n",
       "2                   0.495833              -0.466667                  0.000000  \n",
       "3                   0.385965              -0.369697                  0.000000  \n",
       "4                   0.411127              -0.220192                  0.136364  \n",
       "...                      ...                    ...                       ...  \n",
       "39639               0.333791              -0.260000                  0.000000  \n",
       "39640               0.374825              -0.211111                  1.000000  \n",
       "39641               0.307273              -0.356439                  0.136364  \n",
       "39642               0.236851              -0.205246                  0.000000  \n",
       "39643               0.247338              -0.200000                  0.250000  \n",
       "\n",
       "[39644 rows x 10 columns]"
      ]
     },
     "execution_count": 8,
     "metadata": {},
     "output_type": "execute_result"
    }
   ],
   "source": [
    "data"
   ]
  },
  {
   "cell_type": "markdown",
   "id": "7b5b531a-c2e5-4b26-9a91-226d5a4e4788",
   "metadata": {},
   "source": [
    "## Discretization"
   ]
  },
  {
   "cell_type": "code",
   "execution_count": 9,
   "id": "084d9de9-f9c1-4fa0-9700-9c0b3a171d77",
   "metadata": {},
   "outputs": [],
   "source": [
    "# Define the thresholds and corresponding labels\n",
    "thresholds = [0, 500, 10000, 100000, float('inf')]\n",
    "labels = ['low', 'medium', 'high', 'viral']"
   ]
  },
  {
   "cell_type": "code",
   "execution_count": 10,
   "id": "ee77ea27-dc39-42af-a762-92e15c6b9c1b",
   "metadata": {},
   "outputs": [],
   "source": [
    "data['share_category'] = pd.cut(data['shares'], bins=thresholds, labels=labels, right=False)"
   ]
  },
  {
   "cell_type": "code",
   "execution_count": 11,
   "id": "aae15394-8e02-45e1-952a-79424f1d3610",
   "metadata": {},
   "outputs": [
    {
     "name": "stdout",
     "output_type": "stream",
     "text": [
      "medium    36355\n",
      "high       2157\n",
      "low        1074\n",
      "viral        58\n",
      "Name: share_category, dtype: int64\n"
     ]
    }
   ],
   "source": [
    "print(data['share_category'].value_counts())"
   ]
  },
  {
   "cell_type": "code",
   "execution_count": 12,
   "id": "a7a9568b-35fe-4952-8fd0-486fb3b2c465",
   "metadata": {},
   "outputs": [],
   "source": [
    "word_count_thresholds = [0, 200, 500, 800, float('inf')]\n",
    "word_count_labels = ['very short', 'short', 'medium', 'long']"
   ]
  },
  {
   "cell_type": "code",
   "execution_count": 13,
   "id": "f4cbf709-b64b-45a6-a41c-aabd9f0f6bdb",
   "metadata": {},
   "outputs": [],
   "source": [
    "data['word_count_category'] = pd.cut(data['content_word_count'], bins=word_count_thresholds, labels=word_count_labels, right=False)"
   ]
  },
  {
   "cell_type": "code",
   "execution_count": 14,
   "id": "0ad413fa-d05b-4842-9109-5a757c2a4dc6",
   "metadata": {},
   "outputs": [
    {
     "name": "stdout",
     "output_type": "stream",
     "text": [
      "short         16690\n",
      "long           8137\n",
      "medium         8020\n",
      "very short     6797\n",
      "Name: word_count_category, dtype: int64\n"
     ]
    }
   ],
   "source": [
    "print(data['word_count_category'].value_counts())"
   ]
  },
  {
   "cell_type": "code",
   "execution_count": 18,
   "id": "1787323e-8d4e-4631-a4f9-8702164b6b5b",
   "metadata": {},
   "outputs": [
    {
     "data": {
      "text/plain": [
       "Index(['link', 'genre', 'date', 'day_data', 'shares', 'title_word_count',\n",
       "       'content_word_count', 'avg_positive_polarity', 'avg_negative_polarity',\n",
       "       'title_sentiment_polarity', 'share_category', 'word_count_category'],\n",
       "      dtype='object')"
      ]
     },
     "execution_count": 18,
     "metadata": {},
     "output_type": "execute_result"
    }
   ],
   "source": [
    "data.columns"
   ]
  },
  {
   "cell_type": "markdown",
   "id": "c6abd713-6bb8-4049-832d-292a7100e4db",
   "metadata": {},
   "source": [
    "## Encoding"
   ]
  },
  {
   "cell_type": "code",
   "execution_count": 19,
   "id": "c9520c77-4174-48f4-ad73-055395ad97f0",
   "metadata": {
    "scrolled": true
   },
   "outputs": [
    {
     "data": {
      "text/plain": [
       "link                          object\n",
       "genre                         object\n",
       "date                          object\n",
       "day_data                      object\n",
       "shares                         int64\n",
       "title_word_count             float64\n",
       "content_word_count           float64\n",
       "avg_positive_polarity        float64\n",
       "avg_negative_polarity        float64\n",
       "title_sentiment_polarity     float64\n",
       "share_category              category\n",
       "word_count_category         category\n",
       "dtype: object"
      ]
     },
     "execution_count": 19,
     "metadata": {},
     "output_type": "execute_result"
    }
   ],
   "source": [
    "data.dtypes"
   ]
  },
  {
   "cell_type": "code",
   "execution_count": 20,
   "id": "fd17d54a-50db-4d24-a55f-9257e8982c4f",
   "metadata": {},
   "outputs": [],
   "source": [
    "num_atr = ['shares', 'title_word_count','content_word_count', 'avg_positive_polarity', 'avg_negative_polarity', 'title_sentiment_polarity']\n",
    "class_atr = ['share_category', 'word_count_category']"
   ]
  },
  {
   "cell_type": "code",
   "execution_count": 21,
   "id": "1853cd0a-389a-4b97-b1c0-fcea5524a495",
   "metadata": {},
   "outputs": [],
   "source": [
    "data_normalized = data.copy()"
   ]
  },
  {
   "cell_type": "code",
   "execution_count": 22,
   "id": "57ec77cf-5dc0-495b-bc43-6716027a0bc9",
   "metadata": {},
   "outputs": [],
   "source": [
    "scaler = StandardScaler()\n",
    "data_normalized[num_atr] = scaler.fit_transform(data_normalized[num_atr])"
   ]
  },
  {
   "cell_type": "code",
   "execution_count": 23,
   "id": "7073e7e7-9166-438f-bc5a-87b26f38965d",
   "metadata": {},
   "outputs": [
    {
     "name": "stdout",
     "output_type": "stream",
     "text": [
      "                                                    link           genre  \\\n",
      "0      http://mashable.com/2013/01/07/amazon-instant-...   entertainment   \n",
      "1      http://mashable.com/2013/01/07/ap-samsung-spon...        business   \n",
      "2      http://mashable.com/2013/01/07/apple-40-billio...        business   \n",
      "3      http://mashable.com/2013/01/07/astronaut-notre...   entertainment   \n",
      "4       http://mashable.com/2013/01/07/att-u-verse-apps/      technology   \n",
      "...                                                  ...             ...   \n",
      "39639  http://mashable.com/2014/12/27/samsung-app-aut...      technology   \n",
      "39640  http://mashable.com/2014/12/27/seth-rogen-jame...    social media   \n",
      "39641  http://mashable.com/2014/12/27/son-pays-off-mo...       lifestyle   \n",
      "39642     http://mashable.com/2014/12/27/ukraine-blasts/           world   \n",
      "39643  http://mashable.com/2014/12/27/youtube-channel...   entertainment   \n",
      "\n",
      "             date   day_data    shares  title_word_count  content_word_count  \\\n",
      "0      2013-01-07     monday -0.241028          0.757447           -0.695210   \n",
      "1      2013-01-07     monday -0.230879         -0.661657           -0.618794   \n",
      "2      2013-01-07     monday -0.163018         -0.661657           -0.712192   \n",
      "3      2013-01-07     monday -0.188821         -0.661657           -0.032933   \n",
      "4      2013-01-07     monday -0.248596          1.230482            1.115439   \n",
      "...           ...        ...       ...               ...                 ...   \n",
      "39639  2014-12-31  wednesday -0.137216          0.284413           -0.425630   \n",
      "39640  2014-12-31  wednesday -0.128615          0.757447           -0.463838   \n",
      "39641  2014-12-31  wednesday -0.128615         -0.188622           -0.221852   \n",
      "39642  2014-12-31  wednesday -0.197421         -2.080761            0.287592   \n",
      "39643  2014-12-31  wednesday -0.180220         -0.188622           -0.826817   \n",
      "\n",
      "       avg_positive_polarity  avg_negative_polarity  title_sentiment_polarity  \\\n",
      "0                   0.237337              -0.708369                 -0.975432   \n",
      "1                  -0.640040               1.102174                 -0.269076   \n",
      "2                   1.358401              -1.621797                 -0.269076   \n",
      "3                   0.307442              -0.862584                 -0.269076   \n",
      "4                   0.548135               0.307944                  0.244637   \n",
      "...                      ...                    ...                       ...   \n",
      "39639              -0.191635              -0.003726                 -0.269076   \n",
      "39640               0.200881               0.379044                  3.498156   \n",
      "39641              -0.445302              -0.758786                  0.244637   \n",
      "39642              -1.118934               0.424968                 -0.269076   \n",
      "39643              -1.018619               0.466037                  0.672732   \n",
      "\n",
      "      share_category word_count_category  \n",
      "0             medium               short  \n",
      "1             medium               short  \n",
      "2             medium               short  \n",
      "3             medium              medium  \n",
      "4             medium                long  \n",
      "...              ...                 ...  \n",
      "39639         medium               short  \n",
      "39640         medium               short  \n",
      "39641         medium               short  \n",
      "39642         medium              medium  \n",
      "39643         medium          very short  \n",
      "\n",
      "[39644 rows x 12 columns]\n"
     ]
    }
   ],
   "source": [
    "print(data_normalized)"
   ]
  },
  {
   "cell_type": "code",
   "execution_count": 35,
   "id": "0db2bbdb",
   "metadata": {},
   "outputs": [],
   "source": [
    "data_normalized.to_csv('Final Project Data Normalized.csv')"
   ]
  },
  {
   "cell_type": "markdown",
   "id": "8a240c52-5527-472c-ba95-f07efe28a2f7",
   "metadata": {},
   "source": [
    "## One-Hot Encoding"
   ]
  },
  {
   "cell_type": "code",
   "execution_count": 24,
   "id": "f8a2e6e1-0427-4052-82a4-e92243ba1513",
   "metadata": {},
   "outputs": [],
   "source": [
    "cat_atr = ['genre','day_data']    # link and date not included as they are unique for each row so it would create 40k columns for each unique value\n",
    "class_atr = ['share_category', 'word_count_category']"
   ]
  },
  {
   "cell_type": "code",
   "execution_count": 25,
   "id": "492056f5-a557-4307-a798-8a7296b9ac68",
   "metadata": {},
   "outputs": [],
   "source": [
    "data_encoded = data.copy()\n",
    "data_encoded = pd.get_dummies(data_encoded, columns=cat_atr)"
   ]
  },
  {
   "cell_type": "code",
   "execution_count": 26,
   "id": "2abd1559-6a42-4edf-82cf-8e7d70d87bd6",
   "metadata": {},
   "outputs": [
    {
     "name": "stdout",
     "output_type": "stream",
     "text": [
      "                                                    link        date  shares  \\\n",
      "0      http://mashable.com/2013/01/07/amazon-instant-...  2013-01-07     593   \n",
      "1      http://mashable.com/2013/01/07/ap-samsung-spon...  2013-01-07     711   \n",
      "2      http://mashable.com/2013/01/07/apple-40-billio...  2013-01-07    1500   \n",
      "3      http://mashable.com/2013/01/07/astronaut-notre...  2013-01-07    1200   \n",
      "4       http://mashable.com/2013/01/07/att-u-verse-apps/  2013-01-07     505   \n",
      "...                                                  ...         ...     ...   \n",
      "39639  http://mashable.com/2014/12/27/samsung-app-aut...  2014-12-31    1800   \n",
      "39640  http://mashable.com/2014/12/27/seth-rogen-jame...  2014-12-31    1900   \n",
      "39641  http://mashable.com/2014/12/27/son-pays-off-mo...  2014-12-31    1900   \n",
      "39642     http://mashable.com/2014/12/27/ukraine-blasts/  2014-12-31    1100   \n",
      "39643  http://mashable.com/2014/12/27/youtube-channel...  2014-12-31    1300   \n",
      "\n",
      "       title_word_count  content_word_count  avg_positive_polarity  \\\n",
      "0                  12.0               219.0               0.378636   \n",
      "1                   9.0               255.0               0.286915   \n",
      "2                   9.0               211.0               0.495833   \n",
      "3                   9.0               531.0               0.385965   \n",
      "4                  13.0              1072.0               0.411127   \n",
      "...                 ...                 ...                    ...   \n",
      "39639              11.0               346.0               0.333791   \n",
      "39640              12.0               328.0               0.374825   \n",
      "39641              10.0               442.0               0.307273   \n",
      "39642               6.0               682.0               0.236851   \n",
      "39643              10.0               157.0               0.247338   \n",
      "\n",
      "       avg_negative_polarity  title_sentiment_polarity share_category  \\\n",
      "0                  -0.350000                 -0.187500         medium   \n",
      "1                  -0.118750                  0.000000         medium   \n",
      "2                  -0.466667                  0.000000         medium   \n",
      "3                  -0.369697                  0.000000         medium   \n",
      "4                  -0.220192                  0.136364         medium   \n",
      "...                      ...                       ...            ...   \n",
      "39639              -0.260000                  0.000000         medium   \n",
      "39640              -0.211111                  1.000000         medium   \n",
      "39641              -0.356439                  0.136364         medium   \n",
      "39642              -0.205246                  0.000000         medium   \n",
      "39643              -0.200000                  0.250000         medium   \n",
      "\n",
      "      word_count_category  ...  genre_social media  genre_technology  \\\n",
      "0                   short  ...                   0                 0   \n",
      "1                   short  ...                   0                 0   \n",
      "2                   short  ...                   0                 0   \n",
      "3                  medium  ...                   0                 0   \n",
      "4                    long  ...                   0                 1   \n",
      "...                   ...  ...                 ...               ...   \n",
      "39639               short  ...                   0                 1   \n",
      "39640               short  ...                   1                 0   \n",
      "39641               short  ...                   0                 0   \n",
      "39642              medium  ...                   0                 0   \n",
      "39643          very short  ...                   0                 0   \n",
      "\n",
      "       genre_world  day_data_friday  day_data_monday  day_data_saturday  \\\n",
      "0                0                0                1                  0   \n",
      "1                0                0                1                  0   \n",
      "2                0                0                1                  0   \n",
      "3                0                0                1                  0   \n",
      "4                0                0                1                  0   \n",
      "...            ...              ...              ...                ...   \n",
      "39639            0                0                0                  0   \n",
      "39640            0                0                0                  0   \n",
      "39641            0                0                0                  0   \n",
      "39642            1                0                0                  0   \n",
      "39643            0                0                0                  0   \n",
      "\n",
      "       day_data_sunday  day_data_thursday  day_data_tuesday  \\\n",
      "0                    0                  0                 0   \n",
      "1                    0                  0                 0   \n",
      "2                    0                  0                 0   \n",
      "3                    0                  0                 0   \n",
      "4                    0                  0                 0   \n",
      "...                ...                ...               ...   \n",
      "39639                0                  0                 0   \n",
      "39640                0                  0                 0   \n",
      "39641                0                  0                 0   \n",
      "39642                0                  0                 0   \n",
      "39643                0                  0                 0   \n",
      "\n",
      "       day_data_wednesday  \n",
      "0                       0  \n",
      "1                       0  \n",
      "2                       0  \n",
      "3                       0  \n",
      "4                       0  \n",
      "...                   ...  \n",
      "39639                   1  \n",
      "39640                   1  \n",
      "39641                   1  \n",
      "39642                   1  \n",
      "39643                   1  \n",
      "\n",
      "[39644 rows x 23 columns]\n"
     ]
    }
   ],
   "source": [
    "print(data_encoded)"
   ]
  },
  {
   "cell_type": "markdown",
   "id": "bede060c-98e4-4f13-9ef1-ce6b4a2d0324",
   "metadata": {},
   "source": [
    "## Train-Test slpit"
   ]
  },
  {
   "cell_type": "code",
   "execution_count": 27,
   "id": "48027146-77cf-455f-af85-ba67a07e7d48",
   "metadata": {},
   "outputs": [],
   "source": [
    "y = data[class_atr]"
   ]
  },
  {
   "cell_type": "code",
   "execution_count": 28,
   "id": "5dcaa3f7-37d4-403e-b4f5-716c104f4340",
   "metadata": {},
   "outputs": [],
   "source": [
    "X_train, X_test, y_train, y_test = train_test_split(data_encoded, y, test_size=0.3, random_state=123)"
   ]
  },
  {
   "cell_type": "code",
   "execution_count": 29,
   "id": "570302f4-0d97-451f-9289-7300b68878c9",
   "metadata": {},
   "outputs": [
    {
     "name": "stdout",
     "output_type": "stream",
     "text": [
      "                                                    link        date  shares  \\\n",
      "10085  http://mashable.com/2013/07/17/speakers-for-ip...  2013-07-17     896   \n",
      "37629  http://mashable.com/2014/11/24/super-mario-wor...  2014-11-26     968   \n",
      "36744  http://mashable.com/2014/11/11/vanessa-mae-win...  2014-11-13     903   \n",
      "32045  http://mashable.com/2014/09/03/u-s-justice-dep...  2014-09-04     696   \n",
      "6569   http://mashable.com/2013/05/08/oscar-de-la-ren...  2013-05-08     752   \n",
      "...                                                  ...         ...     ...   \n",
      "7763   http://mashable.com/2013/06/02/social-media-ga...  2013-06-02   17100   \n",
      "15377  http://mashable.com/2013/10/30/facebook-teen-u...  2013-10-30    2000   \n",
      "17730    http://mashable.com/2013/12/18/cholesterol-app/  2013-12-18    2700   \n",
      "28030  http://mashable.com/2014/06/30/supreme-court-c...  2014-06-30    4000   \n",
      "15725  http://mashable.com/2013/11/06/kony-hunt-crowd...  2013-11-06    5700   \n",
      "\n",
      "       title_word_count  content_word_count  avg_positive_polarity  \\\n",
      "10085              11.0               264.0               0.148636   \n",
      "37629              10.0               422.0               0.407143   \n",
      "36744              12.0                 0.0               0.000000   \n",
      "32045              13.0              1128.0               0.264989   \n",
      "6569               11.0               313.0               0.376852   \n",
      "...                 ...                 ...                    ...   \n",
      "7763               11.0                 0.0               0.000000   \n",
      "15377               7.0               868.0               0.367960   \n",
      "17730              16.0               571.0               0.547887   \n",
      "28030              12.0               342.0               0.367316   \n",
      "15725               8.0              1233.0               0.300777   \n",
      "\n",
      "       avg_negative_polarity  title_sentiment_polarity share_category  \\\n",
      "10085              -0.261442                  0.000000         medium   \n",
      "37629              -0.163426                  0.000000         medium   \n",
      "36744               0.000000                 -0.200000         medium   \n",
      "32045              -0.251190                  0.100000         medium   \n",
      "6569               -0.341667                  0.000000         medium   \n",
      "...                      ...                       ...            ...   \n",
      "7763                0.000000                 -0.183333           high   \n",
      "15377              -0.217708                  0.000000         medium   \n",
      "17730              -0.393529                 -1.000000         medium   \n",
      "28030              -0.316667                  0.500000         medium   \n",
      "15725              -0.317292                 -0.333333         medium   \n",
      "\n",
      "      word_count_category  ...  genre_social media  genre_technology  \\\n",
      "10085               short  ...                   0                 0   \n",
      "37629               short  ...                   0                 0   \n",
      "36744          very short  ...                   0                 0   \n",
      "32045                long  ...                   0                 0   \n",
      "6569                short  ...                   0                 0   \n",
      "...                   ...  ...                 ...               ...   \n",
      "7763           very short  ...                   0                 0   \n",
      "15377                long  ...                   0                 1   \n",
      "17730              medium  ...                   0                 0   \n",
      "28030               short  ...                   1                 0   \n",
      "15725                long  ...                   0                 0   \n",
      "\n",
      "       genre_world  day_data_friday  day_data_monday  day_data_saturday  \\\n",
      "10085            0                0                0                  0   \n",
      "37629            0                0                0                  0   \n",
      "36744            0                0                0                  0   \n",
      "32045            1                0                0                  0   \n",
      "6569             0                0                0                  0   \n",
      "...            ...              ...              ...                ...   \n",
      "7763             0                0                0                  0   \n",
      "15377            0                0                0                  0   \n",
      "17730            0                0                0                  0   \n",
      "28030            0                0                1                  0   \n",
      "15725            0                0                0                  0   \n",
      "\n",
      "       day_data_sunday  day_data_thursday  day_data_tuesday  \\\n",
      "10085                0                  0                 0   \n",
      "37629                0                  0                 0   \n",
      "36744                0                  1                 0   \n",
      "32045                0                  1                 0   \n",
      "6569                 0                  0                 0   \n",
      "...                ...                ...               ...   \n",
      "7763                 1                  0                 0   \n",
      "15377                0                  0                 0   \n",
      "17730                0                  0                 0   \n",
      "28030                0                  0                 0   \n",
      "15725                0                  0                 0   \n",
      "\n",
      "       day_data_wednesday  \n",
      "10085                   1  \n",
      "37629                   1  \n",
      "36744                   0  \n",
      "32045                   0  \n",
      "6569                    1  \n",
      "...                   ...  \n",
      "7763                    0  \n",
      "15377                   1  \n",
      "17730                   1  \n",
      "28030                   0  \n",
      "15725                   1  \n",
      "\n",
      "[27750 rows x 23 columns]\n"
     ]
    }
   ],
   "source": [
    "print(X_train)"
   ]
  },
  {
   "cell_type": "code",
   "execution_count": 30,
   "id": "ec8949c7-1e92-44d9-8c0c-4b68a2b7889e",
   "metadata": {},
   "outputs": [
    {
     "name": "stdout",
     "output_type": "stream",
     "text": [
      "                                                    link        date  shares  \\\n",
      "3847   http://mashable.com/2013/03/14/watch-astronaut...  2013-03-14     818   \n",
      "5737   http://mashable.com/2013/04/22/recycle-old-sma...  2013-04-22    3300   \n",
      "9417   http://mashable.com/2013/07/04/magna-carta-hol...  2013-07-04     134   \n",
      "33967            http://mashable.com/2014/10/03/bad-usb/  2014-10-03    2200   \n",
      "26130  http://mashable.com/2014/05/30/va-secretary-sh...  2014-05-31    1800   \n",
      "...                                                  ...         ...     ...   \n",
      "23178  http://mashable.com/2014/04/08/oakland-interna...  2014-04-08    1700   \n",
      "8361        http://mashable.com/2013/06/13/facebook-rss/  2013-06-13     958   \n",
      "15071       http://mashable.com/2013/10/24/fish-shaming/  2013-10-24     597   \n",
      "21469  http://mashable.com/2014/03/06/japan-bitcoin-n...  2014-03-06    2200   \n",
      "20337  http://mashable.com/2014/02/12/republicans-fak...  2014-02-12    1100   \n",
      "\n",
      "       title_word_count  content_word_count  avg_positive_polarity  \\\n",
      "3847               10.0               620.0               0.368486   \n",
      "5737                8.0               604.0               0.265172   \n",
      "9417               10.0               436.0               0.335947   \n",
      "33967              11.0              1024.0               0.369778   \n",
      "26130              12.0                 0.0               0.000000   \n",
      "...                 ...                 ...                    ...   \n",
      "23178              10.0               146.0               0.427273   \n",
      "8361               11.0                83.0               0.325000   \n",
      "15071               9.0               205.0               0.320379   \n",
      "21469              11.0               685.0               0.340476   \n",
      "20337              12.0               300.0               0.328283   \n",
      "\n",
      "       avg_negative_polarity  title_sentiment_polarity share_category  \\\n",
      "3847               -0.349722                  0.000000         medium   \n",
      "5737               -0.266204                  0.100000         medium   \n",
      "9417               -0.237179                  0.000000            low   \n",
      "33967              -0.278646                  0.233333         medium   \n",
      "26130               0.000000                  0.416667         medium   \n",
      "...                      ...                       ...            ...   \n",
      "23178              -0.411111                  0.300000         medium   \n",
      "8361               -0.050000                  0.000000         medium   \n",
      "15071              -0.366667                 -0.500000         medium   \n",
      "21469              -0.289286                  0.250000         medium   \n",
      "20337              -0.245833                  0.100000         medium   \n",
      "\n",
      "      word_count_category  ...  genre_social media  genre_technology  \\\n",
      "3847               medium  ...                   0                 0   \n",
      "5737               medium  ...                   0                 0   \n",
      "9417                short  ...                   0                 0   \n",
      "33967                long  ...                   0                 0   \n",
      "26130          very short  ...                   0                 0   \n",
      "...                   ...  ...                 ...               ...   \n",
      "23178          very short  ...                   0                 0   \n",
      "8361           very short  ...                   0                 0   \n",
      "15071               short  ...                   0                 0   \n",
      "21469              medium  ...                   0                 0   \n",
      "20337               short  ...                   0                 0   \n",
      "\n",
      "       genre_world  day_data_friday  day_data_monday  day_data_saturday  \\\n",
      "3847             1                0                0                  0   \n",
      "5737             0                0                1                  0   \n",
      "9417             1                0                0                  0   \n",
      "33967            1                1                0                  0   \n",
      "26130            1                0                0                  1   \n",
      "...            ...              ...              ...                ...   \n",
      "23178            0                0                0                  0   \n",
      "8361             0                0                0                  0   \n",
      "15071            0                0                0                  0   \n",
      "21469            1                0                0                  0   \n",
      "20337            0                0                0                  0   \n",
      "\n",
      "       day_data_sunday  day_data_thursday  day_data_tuesday  \\\n",
      "3847                 0                  1                 0   \n",
      "5737                 0                  0                 0   \n",
      "9417                 0                  1                 0   \n",
      "33967                0                  0                 0   \n",
      "26130                0                  0                 0   \n",
      "...                ...                ...               ...   \n",
      "23178                0                  0                 1   \n",
      "8361                 0                  1                 0   \n",
      "15071                0                  1                 0   \n",
      "21469                0                  1                 0   \n",
      "20337                0                  0                 0   \n",
      "\n",
      "       day_data_wednesday  \n",
      "3847                    0  \n",
      "5737                    0  \n",
      "9417                    0  \n",
      "33967                   0  \n",
      "26130                   0  \n",
      "...                   ...  \n",
      "23178                   0  \n",
      "8361                    0  \n",
      "15071                   0  \n",
      "21469                   0  \n",
      "20337                   1  \n",
      "\n",
      "[11894 rows x 23 columns]\n"
     ]
    }
   ],
   "source": [
    "print(X_test)"
   ]
  },
  {
   "cell_type": "code",
   "execution_count": 31,
   "id": "3f1edfb5-3d2a-4249-b732-2e081ad7b3c4",
   "metadata": {},
   "outputs": [
    {
     "name": "stdout",
     "output_type": "stream",
     "text": [
      "      share_category word_count_category\n",
      "10085         medium               short\n",
      "37629         medium               short\n",
      "36744         medium          very short\n",
      "32045         medium                long\n",
      "6569          medium               short\n",
      "...              ...                 ...\n",
      "7763            high          very short\n",
      "15377         medium                long\n",
      "17730         medium              medium\n",
      "28030         medium               short\n",
      "15725         medium                long\n",
      "\n",
      "[27750 rows x 2 columns]       share_category word_count_category\n",
      "3847          medium              medium\n",
      "5737          medium              medium\n",
      "9417             low               short\n",
      "33967         medium                long\n",
      "26130         medium          very short\n",
      "...              ...                 ...\n",
      "23178         medium          very short\n",
      "8361          medium          very short\n",
      "15071         medium               short\n",
      "21469         medium              medium\n",
      "20337         medium               short\n",
      "\n",
      "[11894 rows x 2 columns]\n"
     ]
    }
   ],
   "source": [
    "print(y_train,y_test)"
   ]
  },
  {
   "cell_type": "code",
   "execution_count": 33,
   "id": "a9db682b-6eaf-40a0-a08b-ca8f6068c5e5",
   "metadata": {},
   "outputs": [],
   "source": [
    "# pip install seaborn\n",
    "# requirement satisfied"
   ]
  },
  {
   "cell_type": "code",
   "execution_count": 47,
   "id": "b9c1e82c-cdca-4b28-925f-9dd4460f8f3e",
   "metadata": {},
   "outputs": [
    {
     "data": {
      "image/png": "[encoded data removed]",
      "text/plain": [
       "<Figure size 800x600 with 2 Axes>"
      ]
     },
     "metadata": {},
     "output_type": "display_data"
    }
   ],
   "source": [
    "import seaborn as sns\n",
    "import matplotlib.pyplot as plt\n",
    "\n",
    "# Assuming 'data' is your DataFrame containing 'share_category' and 'word_count_category'\n",
    "\n",
    "# Calculate the cross-tabulation (frequency) between 'share_category' and 'word_count_category'\n",
    "cross_tab = pd.crosstab(data['share_category'], data['word_count_category'])\n",
    "\n",
    "# Create a heatmap using the cross-tabulation data\n",
    "plt.figure(figsize=(8, 6))\n",
    "sns.heatmap(cross_tab, annot=True, cmap='coolwarm', fmt='d')\n",
    "plt.title('Relationship between Share Category and Word Count Category')\n",
    "plt.xlabel('Word Count Category')\n",
    "plt.ylabel('Share Category')\n",
    "plt.show()\n"
   ]
  },
  {
   "cell_type": "code",
   "execution_count": 34,
   "id": "8b7e46d5-a994-461c-a0a6-ab3887460412",
   "metadata": {},
   "outputs": [],
   "source": [
    "data_encoded.to_csv('Final Project Data Encoded.csv')"
   ]
  },
  {
   "cell_type": "code",
   "execution_count": null,
   "id": "b9e725f7",
   "metadata": {},
   "outputs": [],
   "source": []
  }
 ],
 "metadata": {
  "kernelspec": {
   "display_name": "Python 3 (ipykernel)",
   "language": "python",
   "name": "python3"
  },
  "language_info": {
   "codemirror_mode": {
    "name": "ipython",
    "version": 3
   },
   "file_extension": ".py",
   "mimetype": "text/x-python",
   "name": "python",
   "nbconvert_exporter": "python",
   "pygments_lexer": "ipython3",
   "version": "3.11.4"
  }
 },
 "nbformat": 4,
 "nbformat_minor": 5
}
